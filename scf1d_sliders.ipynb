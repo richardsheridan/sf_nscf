{
 "worksheets": [
  {
   "cells": [
    {
     "cell_type": "code",
     "execution_count": null,
     "metadata": {},
     "outputs": [],
     "input": [
      "%run \"scf1d.py\"\n",
      "%matplotlib inline\n",
      "from IPython.html import widgets\n",
      "from matplotlib import pyplot as plt"
     ],
     "language": "python",
     "prompt_number": 9
    },
    {
     "cell_type": "code",
     "execution_count": null,
     "metadata": {},
     "outputs": [],
     "input": [
      "def pltcache(chi,chi_s,pdi,sigma,segments,disp=False,cache=_SCFcache_dict):\n",
      "    plt.plot(SCFcache(chi,chi_s,pdi,10**sigma,segments,disp=False,cache=cache))\n",
      "    print(len(cache))"
     ],
     "language": "python",
     "prompt_number": 14
    },
    {
     "cell_type": "code",
     "execution_count": null,
     "metadata": {},
     "outputs": [
      {
       "output_type": "stream",
       "stream": "stdout",
       "text": [
        "607\n"
       ]
      },
      {
       "output_type": "display_data",
       "png": "[encoded data removed]",
       "text": [
        "<matplotlib.figure.Figure at 0x7a22210>"
       ],
       "metadata": {}
      }
     ],
     "input": [
      "i = widgets.interact(pltcache,\n",
      "                     chi=(0,1,.001),\n",
      "                     chi_s=(-.5,.5,0.005),\n",
      "                     pdi=(1,2,.001),\n",
      "                     sigma=(-4.,0.,.01),\n",
      "                     segments=(50.,1000.,1.),\n",
      "                     disp=widgets.fixed(False),\n",
      "                     cache=widgets.fixed(_SCFcache_dict)\n",
      "                     )"
     ],
     "language": "python",
     "prompt_number": 13
    },
    {
     "cell_type": "code",
     "execution_count": null,
     "metadata": {},
     "outputs": [],
     "input": [
      ""
     ],
     "language": "python",
     "prompt_number": 6
    }
   ]
  }
 ],
 "cells": [],
 "metadata": {
  "name": "",
  "signature": "sha256:f3f1ab8bde7a3b2fd9291395f9da0da91afe9bebbea9f057fe19f3849fd36b8b"
 },
 "nbformat": 3,
 "nbformat_minor": 0
}